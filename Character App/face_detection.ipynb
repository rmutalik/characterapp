{
 "cells": [
  {
   "attachments": {},
   "cell_type": "markdown",
   "metadata": {},
   "source": [
    "## Detect faces"
   ]
  },
  {
   "attachments": {},
   "cell_type": "markdown",
   "metadata": {},
   "source": [
    "### Test to see what current backend is being used"
   ]
  },
  {
   "cell_type": "code",
   "execution_count": null,
   "metadata": {},
   "outputs": [],
   "source": [
    "import cv2\n",
    "stream = cv2.VideoCapture(0)"
   ]
  },
  {
   "cell_type": "code",
   "execution_count": null,
   "metadata": {},
   "outputs": [],
   "source": [
    "stream.get(cv2.CAP_PROP_BACKEND)       # CAP_MSMF = 1400"
   ]
  },
  {
   "attachments": {},
   "cell_type": "markdown",
   "metadata": {},
   "source": [
    "### Set up webcam video feed"
   ]
  },
  {
   "cell_type": "code",
   "execution_count": 34,
   "metadata": {},
   "outputs": [],
   "source": [
    "import os\n",
    "import glob\n",
    "import cv2\n",
    "\n",
    "# default webcam\n",
    "stream = cv2.VideoCapture(0, cv2.CAP_DSHOW)"
   ]
  },
  {
   "cell_type": "code",
   "execution_count": 35,
   "metadata": {},
   "outputs": [
    {
     "data": {
      "text/plain": [
       "-1"
      ]
     },
     "execution_count": 35,
     "metadata": {},
     "output_type": "execute_result"
    }
   ],
   "source": [
    "count = 0\n",
    "while(True):\n",
    "\n",
    "    (grabbed, frame) = stream.read()\n",
    "\n",
    "    cv2.imwrite(\"./frames/frame_%d.jpg\" % count, frame)\n",
    "    count += 1\n",
    "\n",
    "    cv2.imshow(\"Frame\", frame)\n",
    "\n",
    "    # Exit window\n",
    "    key = cv2.waitKey(1) & 0xFF    \n",
    "    if key == ord(\"q\"):    # Press q to break out of the loop\n",
    "        break\n",
    "\n",
    "# Cleanup\n",
    "stream.release()\n",
    "cv2.waitKey(1)\n",
    "cv2.destroyAllWindows()\n",
    "cv2.waitKey(1)\n"
   ]
  },
  {
   "attachments": {},
   "cell_type": "markdown",
   "metadata": {},
   "source": [
    "### Draw bounding box over face"
   ]
  },
  {
   "cell_type": "code",
   "execution_count": 43,
   "metadata": {},
   "outputs": [
    {
     "name": "stdout",
     "output_type": "stream",
     "text": [
      "Number of detected faces: 3\n"
     ]
    },
    {
     "data": {
      "text/plain": [
       "-1"
      ]
     },
     "execution_count": 43,
     "metadata": {},
     "output_type": "execute_result"
    }
   ],
   "source": [
    "# read the input image\n",
    "img = cv2.imread(\"frames/frame_177.jpg\")\n",
    "\n",
    "# convert to grayscale of each frames\n",
    "gray = cv2.cvtColor(img, cv2.COLOR_BGR2GRAY)\n",
    "\n",
    "# read haacascade to detect faces in input image\n",
    "face_cascade = cv2.CascadeClassifier('haarcascades\\haarcascade_frontalface_alt.xml')\n",
    "\n",
    "# detects faces in the input image\n",
    "faces = face_cascade.detectMultiScale(image=gray, scaleFactor=1.1, minNeighbors=2)\n",
    "print('Number of detected faces:', len(faces))\n",
    "\n",
    "# loop over all the detected faces\n",
    "for (x,y,w,h) in faces:\n",
    "\n",
    "    # To draw a rectangle around the detected face  \n",
    "    cv2.rectangle(img=img, pt1=(x,y), pt2=(x+w,y+h), color=(0,255,255), thickness=2)\n",
    "\n",
    "# Display an image in a window\n",
    "cv2.imshow(\"Face Detection\",img)\n",
    "\n",
    "cv2.waitKey(5000)\n",
    "cv2.destroyAllWindows()\n",
    "cv2.waitKey(1)"
   ]
  },
  {
   "attachments": {},
   "cell_type": "markdown",
   "metadata": {},
   "source": [
    "### Remove captured images"
   ]
  },
  {
   "cell_type": "code",
   "execution_count": 33,
   "metadata": {},
   "outputs": [],
   "source": [
    "# Cleanup files\n",
    "removing_files = glob.glob(\"./frames/*.jpg\")\n",
    "for i in removing_files:\n",
    "    os.remove(i)"
   ]
  }
 ],
 "metadata": {
  "kernelspec": {
   "display_name": "Python 3",
   "language": "python",
   "name": "python3"
  },
  "language_info": {
   "codemirror_mode": {
    "name": "ipython",
    "version": 3
   },
   "file_extension": ".py",
   "mimetype": "text/x-python",
   "name": "python",
   "nbconvert_exporter": "python",
   "pygments_lexer": "ipython3",
   "version": "3.10.11"
  },
  "orig_nbformat": 4
 },
 "nbformat": 4,
 "nbformat_minor": 2
}
