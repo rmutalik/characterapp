{
 "cells": [
  {
   "attachments": {},
   "cell_type": "markdown",
   "metadata": {},
   "source": [
    "## Custom Dataset"
   ]
  },
  {
   "cell_type": "code",
   "execution_count": 1,
   "metadata": {},
   "outputs": [],
   "source": [
    "# Use .jpg images for now\n",
    "import os\n",
    "import glob\n",
    "import cv2\n",
    "\n",
    "import numpy as np"
   ]
  },
  {
   "attachments": {},
   "cell_type": "markdown",
   "metadata": {},
   "source": [
    "### Image Preprocessing"
   ]
  },
  {
   "cell_type": "code",
   "execution_count": 2,
   "metadata": {},
   "outputs": [],
   "source": [
    "width = 1024\n",
    "height = 1024\n",
    "\n",
    "dir = os.getcwd()"
   ]
  },
  {
   "attachments": {},
   "cell_type": "markdown",
   "metadata": {},
   "source": [
    "#### Brightness"
   ]
  },
  {
   "cell_type": "code",
   "execution_count": 3,
   "metadata": {},
   "outputs": [],
   "source": [
    "gamma = 0.35\n",
    "\n",
    "inv_gamma = 1.0 / gamma\n",
    "table = np.array([((i / 255.0) ** inv_gamma) * 255\n",
    "                  for i in np.arange(0, 256)]).astype(\"uint8\")"
   ]
  },
  {
   "attachments": {},
   "cell_type": "markdown",
   "metadata": {},
   "source": [
    "#### Rotation"
   ]
  },
  {
   "cell_type": "code",
   "execution_count": 4,
   "metadata": {},
   "outputs": [
    {
     "data": {
      "text/plain": [
       "array([[ 0.9998477 ,  0.01745241, -8.85765202],\n",
       "       [-0.01745241,  0.9998477 ,  9.01361218]])"
      ]
     },
     "execution_count": 4,
     "metadata": {},
     "output_type": "execute_result"
    }
   ],
   "source": [
    "rotation = cv2.getRotationMatrix2D(center=(width/2, height/2), angle=1, scale=1.0)\n",
    "rotation"
   ]
  },
  {
   "attachments": {},
   "cell_type": "markdown",
   "metadata": {},
   "source": [
    "#### Cropping and Scaling"
   ]
  },
  {
   "attachments": {},
   "cell_type": "markdown",
   "metadata": {},
   "source": [
    "### Image Labeling"
   ]
  },
  {
   "attachments": {},
   "cell_type": "markdown",
   "metadata": {},
   "source": [
    "### Dataset Split"
   ]
  },
  {
   "cell_type": "code",
   "execution_count": 5,
   "metadata": {},
   "outputs": [],
   "source": [
    "# NOTE: Did with Roboflow to label images and create train, test datasets"
   ]
  },
  {
   "attachments": {},
   "cell_type": "markdown",
   "metadata": {},
   "source": [
    "### Dataset Augmentation"
   ]
  },
  {
   "attachments": {},
   "cell_type": "markdown",
   "metadata": {},
   "source": [
    "### Output Data"
   ]
  },
  {
   "cell_type": "code",
   "execution_count": 6,
   "metadata": {},
   "outputs": [],
   "source": [
    "# Send prepared dataset as data input to the model\n"
   ]
  },
  {
   "attachments": {},
   "cell_type": "markdown",
   "metadata": {},
   "source": [
    "### Model"
   ]
  },
  {
   "attachments": {},
   "cell_type": "markdown",
   "metadata": {},
   "source": [
    "#### Dataset Definition"
   ]
  },
  {
   "cell_type": "code",
   "execution_count": 7,
   "metadata": {},
   "outputs": [],
   "source": [
    "import cv2\n",
    "from torch.utils.data import Dataset\n",
    "from torchvision.transforms import ToTensor\n",
    "\n",
    "class CharacterDataset(Dataset):\n",
    "    def __init__(self, image_paths, labels, transform=None):\n",
    "        self.image_paths = image_paths\n",
    "        self.labels = labels\n",
    "        self.transform = transform or ToTensor()\n",
    "\n",
    "    def __len__(self):\n",
    "        return len(self.image_paths)\n",
    "\n",
    "    def __getitem__(self, idx):\n",
    "        image_path = self.image_paths[idx]\n",
    "        label = self.labels[idx]\n",
    "\n",
    "        # Load the image\n",
    "        image = cv2.imread(image_path)\n",
    "\n",
    "        # Convert BGR image to RGB\n",
    "        image = cv2.cvtColor(image, cv2.COLOR_BGR2RGB)\n",
    "\n",
    "        # Apply transformations\n",
    "        image = self.transform(image)\n",
    "\n",
    "        return image, label\n"
   ]
  },
  {
   "attachments": {},
   "cell_type": "markdown",
   "metadata": {},
   "source": [
    "#### Create Image Paths"
   ]
  },
  {
   "cell_type": "code",
   "execution_count": 8,
   "metadata": {},
   "outputs": [],
   "source": [
    "dir = \"./train/\"\n",
    "image_paths = []\n",
    "labels = []\n",
    "\n",
    "for path, subdirs, files in os.walk(dir):\n",
    "    for name in files:\n",
    "        image_paths.append(os.path.join(path, name))\n",
    "        labels.append(str(os.path.relpath(path, dir)))"
   ]
  },
  {
   "cell_type": "code",
   "execution_count": 9,
   "metadata": {},
   "outputs": [],
   "source": [
    "dir = \"./preprocessed/\"\n",
    "preprocessed_paths = []\n",
    "\n",
    "for path, subdirs, files in os.walk(dir):\n",
    "    for name in files:\n",
    "        preprocessed_paths.append(os.path.join(path, name))"
   ]
  },
  {
   "attachments": {},
   "cell_type": "markdown",
   "metadata": {},
   "source": [
    "#### Apply Preprocessing Steps"
   ]
  },
  {
   "cell_type": "code",
   "execution_count": 10,
   "metadata": {},
   "outputs": [],
   "source": [
    "i = 1\n",
    "for file in glob.glob(pathname=\"**/*.jpg\", root_dir=\"./train\", recursive=True):\n",
    "    img = cv2.imread(\"train/\" + file)\n",
    "    gray = cv2.cvtColor(img, cv2.COLOR_BGR2GRAY)\n",
    "    resized_image = cv2.resize(gray, (width, height))\n",
    "    cropped_image = resized_image[int(height/10.0):int(height/1.1), int(width/4.0):int(width/1.3)]          # img[startY:endY, startX:endX] = resized_image[100:900, 250:750]\n",
    "    distance = cv2.warpAffine(cropped_image, rotation, cropped_image.shape[1::-1])\n",
    "    \n",
    "    final_img = cv2.LUT(distance, table)\n",
    "    # cv2.imwrite(\"./preprocessed/img_\" + str(i) + \".jpg\", final_img)\n",
    "\n",
    "    # Custom window\n",
    "    cv2.namedWindow(\"Image\", cv2.WINDOW_KEEPRATIO)\n",
    "    cv2.resizeWindow(\"Image\", 750, 750)     # size of window; would be better as percentage/ratio\n",
    "    cv2.moveWindow(\"Image\", 600, 100)       # center window to 24\" monitor; would be better as percentage\n",
    "    cv2.imshow(\"Image\", final_img)\n",
    "\n",
    "    cv2.waitKey(500)\n",
    "    i += 1\n",
    "\n",
    "cv2.destroyAllWindows()"
   ]
  },
  {
   "attachments": {},
   "cell_type": "markdown",
   "metadata": {},
   "source": [
    "#### Model Definition"
   ]
  },
  {
   "cell_type": "code",
   "execution_count": 11,
   "metadata": {},
   "outputs": [
    {
     "name": "stdout",
     "output_type": "stream",
     "text": [
      "Epoch [1/20], Loss: 10.8438\n",
      "Epoch [2/20], Loss: 1.0363\n",
      "Epoch [3/20], Loss: 0.9034\n",
      "Epoch [4/20], Loss: 0.5747\n",
      "Epoch [5/20], Loss: 1.7716\n",
      "Epoch [6/20], Loss: 1.0675\n",
      "Epoch [7/20], Loss: 1.0712\n",
      "Epoch [8/20], Loss: 1.0377\n",
      "Epoch [9/20], Loss: 0.8634\n",
      "Epoch [10/20], Loss: 1.3226\n",
      "Epoch [11/20], Loss: 0.9793\n",
      "Epoch [12/20], Loss: 0.9214\n",
      "Epoch [13/20], Loss: 0.8885\n",
      "Epoch [14/20], Loss: 0.7882\n",
      "Epoch [15/20], Loss: 0.9671\n",
      "Epoch [16/20], Loss: 1.0121\n",
      "Epoch [17/20], Loss: 0.9929\n",
      "Epoch [18/20], Loss: 0.9775\n",
      "Epoch [19/20], Loss: 1.0904\n",
      "Epoch [20/20], Loss: 0.8699\n"
     ]
    }
   ],
   "source": [
    "import torch\n",
    "import torch.nn as nn\n",
    "import torch.optim as optim\n",
    "import torch.nn.functional as F\n",
    "from torch.utils.data import DataLoader\n",
    "from sklearn.preprocessing import LabelEncoder, OneHotEncoder\n",
    "\n",
    "# Define your CNN architecture for face detection\n",
    "class FaceDetectionCNN(nn.Module):\n",
    "    def __init__(self):\n",
    "        super(FaceDetectionCNN, self).__init__()\n",
    "        # Define the layers of your CNN\n",
    "        self.conv1 = nn.Conv2d(in_channels=3, out_channels=32, kernel_size=3, stride=1, padding=1)\n",
    "        self.relu = nn.ReLU()\n",
    "        self.maxpool = nn.MaxPool2d(kernel_size=2, stride=2)\n",
    "        self.fc = nn.Linear(in_features=3276800, out_features=3)  # Output size 3 for multi-class classification (one of 3 TV characters)          # NOTE: mat2; 8192x2 = (32*16*16,2)\n",
    "        # self.fc = nn.Linear(32 * 16 * 16 * 25 * 16, 3)\n",
    "        # self.fc2 = nn.Linear(in_features=1000, out_features=3)        # BUG: Breaks computer and makes it lag. Why?\n",
    "\n",
    "    def forward(self, x):\n",
    "        x = self.conv1(x)\n",
    "        x = self.relu(x)\n",
    "        x = self.maxpool(x)\n",
    "        x = x.view(x.size(0), -1)  # Flatten the tensor\n",
    "        x = self.fc(x)\n",
    "        # x = self.fc2(x)\n",
    "        return x\n",
    "\n",
    "# Create an instance of your CNN\n",
    "model = FaceDetectionCNN()\n",
    "\n",
    "# Define loss function and optimizer\n",
    "criterion = nn.CrossEntropyLoss()\n",
    "optimizer = optim.SGD(model.parameters(), lr=0.01, momentum=0.9)\n",
    "\n",
    "# Prepare your training data (assuming you have a dataset class)\n",
    "train_dataset = CharacterDataset(image_paths, labels)\n",
    "train_loader = DataLoader(train_dataset, batch_size=3, shuffle=True)\n",
    "\n",
    "# Training loop\n",
    "num_epochs = 20\n",
    "device = torch.device(\"cuda\" if torch.cuda.is_available() else \"cpu\")\n",
    "model.to(device)\n",
    "\n",
    "# TODO: Need to create validation set to do hyperparameter tuning and reduce loss\n",
    "for epoch in range(num_epochs):\n",
    "    running_loss = 0.0\n",
    "    for images, train_labels in train_loader:\n",
    "        images = images.to(device)\n",
    "\n",
    "        # Encode labels as integers\n",
    "        label_encoder = LabelEncoder()\n",
    "        integer_labels = label_encoder.fit_transform(train_labels)\n",
    "\n",
    "        # Convert integer labels to tensor\n",
    "        integer_labels_tensor = torch.tensor(integer_labels)\n",
    "\n",
    "        # One-hot encode the integer labels\n",
    "        onehot_labels = F.one_hot(integer_labels_tensor)\n",
    "\n",
    "        # loss_labels = onehot_labels.to(device)\n",
    "        loss_labels = integer_labels_tensor.to(device)\n",
    "\n",
    "        # Zero the parameter gradients\n",
    "        optimizer.zero_grad()\n",
    "\n",
    "        # Forward pass\n",
    "        outputs = model(images)                                     # NOTE: mat1; 9x3276800 = (9 total images, 640 width * 640 height * (24 bit depth / 3 channels) ) -> My guess\n",
    "        loss = criterion(outputs, loss_labels)\n",
    "\n",
    "        # Backward pass and optimization\n",
    "        loss.backward()\n",
    "        optimizer.step()\n",
    "\n",
    "        running_loss += loss.item()\n",
    "\n",
    "    # Print the average loss for this epoch\n",
    "    print(f\"Epoch [{epoch+1}/{num_epochs}], Loss: {running_loss / len(train_loader):.4f}\")\n",
    "\n",
    "# Save the trained model\n",
    "torch.save(model.state_dict(), \"characterapp_model.pt\")\n"
   ]
  },
  {
   "attachments": {},
   "cell_type": "markdown",
   "metadata": {},
   "source": [
    "### Test Dataset"
   ]
  },
  {
   "attachments": {},
   "cell_type": "markdown",
   "metadata": {},
   "source": [
    "#### Load model"
   ]
  },
  {
   "cell_type": "code",
   "execution_count": 12,
   "metadata": {},
   "outputs": [
    {
     "data": {
      "text/plain": [
       "FaceDetectionCNN(\n",
       "  (conv1): Conv2d(3, 32, kernel_size=(3, 3), stride=(1, 1), padding=(1, 1))\n",
       "  (relu): ReLU()\n",
       "  (maxpool): MaxPool2d(kernel_size=2, stride=2, padding=0, dilation=1, ceil_mode=False)\n",
       "  (fc): Linear(in_features=3276800, out_features=3, bias=True)\n",
       ")"
      ]
     },
     "execution_count": 12,
     "metadata": {},
     "output_type": "execute_result"
    }
   ],
   "source": [
    "model = FaceDetectionCNN()      # TODO: Try using .to(device) to see if device makes a difference\n",
    "model.load_state_dict(torch.load(\"characterapp_model.pt\"))\n",
    "\n",
    "model.eval()"
   ]
  },
  {
   "attachments": {},
   "cell_type": "markdown",
   "metadata": {},
   "source": [
    "#### Get Predictions"
   ]
  },
  {
   "cell_type": "code",
   "execution_count": 13,
   "metadata": {},
   "outputs": [
    {
     "data": {
      "text/plain": [
       "['./test/Chuck Bartowski\\\\IMG_4747_JPG.rf.58fa7c9b41f1a852276425e8329f317a.jpg',\n",
       " './test/Chuck Bartowski\\\\IMG_4748_JPG.rf.fccc95a51b4753b7eb76924fab29d939.jpg',\n",
       " './test/John Casey\\\\IMG_4758_JPG.rf.44dcec4cd273ad617698cf53f7359df8.jpg',\n",
       " './test/John Casey\\\\IMG_4759_JPG.rf.fac4c83872471825061abb92b1db1fbd.jpg',\n",
       " './test/Sarah Walker\\\\IMG_4752_JPG.rf.42e9a89946f98de86f4bc4c7f4a7b42b.jpg',\n",
       " './test/Sarah Walker\\\\IMG_4753_JPG.rf.96e482bb0c7af439c3de4d9f56cfd98a.jpg']"
      ]
     },
     "execution_count": 13,
     "metadata": {},
     "output_type": "execute_result"
    }
   ],
   "source": [
    "dir = \"./test/\"\n",
    "test_image_paths = []\n",
    "\n",
    "for path, subdirs, files in os.walk(dir):\n",
    "    for name in files:\n",
    "        test_image_paths.append(os.path.join(path, name))\n",
    "\n",
    "test_image_paths"
   ]
  },
  {
   "cell_type": "code",
   "execution_count": 14,
   "metadata": {},
   "outputs": [],
   "source": [
    "test_labels = [\"Chuck Bartowski\", \"Chuck Bartowski\", \"John Casey\", \"John Casey\", \"Sarah Walker\", \"Sarah Walker\"]"
   ]
  },
  {
   "cell_type": "code",
   "execution_count": 15,
   "metadata": {},
   "outputs": [
    {
     "data": {
      "text/plain": [
       "<torch.utils.data.dataloader.DataLoader at 0x179ffe03f10>"
      ]
     },
     "execution_count": 15,
     "metadata": {},
     "output_type": "execute_result"
    }
   ],
   "source": [
    "test_dataset = CharacterDataset(test_image_paths, test_labels)\n",
    "test_loader = DataLoader(test_dataset, batch_size=3, shuffle=False)\n",
    "test_loader"
   ]
  },
  {
   "cell_type": "code",
   "execution_count": 19,
   "metadata": {},
   "outputs": [
    {
     "name": "stdout",
     "output_type": "stream",
     "text": [
      "['Chuck Bartowski', 'Chuck Bartowski', 'Chuck Bartowski']\n",
      "['John Casey', 'John Casey', 'John Casey']\n"
     ]
    }
   ],
   "source": [
    "device = torch.device(\"cuda:0\" if torch.cuda.is_available() else \"cpu\")\n",
    "model.eval()\n",
    "model.to(device)\n",
    "\n",
    "with torch.no_grad():\n",
    "    for images, test_labels in test_loader:\n",
    "        images = images.detach().clone().to(device)        # NOTE: Fixed warning \"UserWarning: To copy construct from a tensor...\"\n",
    "\n",
    "        # One-hot encode the integer labels\n",
    "        label_encoder = LabelEncoder()                              # Encode labels as integers\n",
    "        integer_labels = label_encoder.fit_transform(test_labels)\n",
    "        integer_labels_tensor = torch.tensor(integer_labels)        # Convert integer labels to tensor\n",
    "        onehot_labels = F.one_hot(integer_labels_tensor)\n",
    "        test_integer_labels = onehot_labels.to(device)\n",
    "\n",
    "        predictions = model(images)\n",
    "\n",
    "        # Find the class label index with the largest corresponding probability\n",
    "        predicted_indices = torch.argmax(predictions, dim=1)\n",
    "        predicted_labels = [test_labels[idx] for idx in predicted_indices]\n",
    "        print(predicted_labels)\n",
    "\n",
    "        # TODO: Calculate accuracy with test_integer_labels and ground truth"
   ]
  }
 ],
 "metadata": {
  "kernelspec": {
   "display_name": "Python 3",
   "language": "python",
   "name": "python3"
  },
  "language_info": {
   "codemirror_mode": {
    "name": "ipython",
    "version": 3
   },
   "file_extension": ".py",
   "mimetype": "text/x-python",
   "name": "python",
   "nbconvert_exporter": "python",
   "pygments_lexer": "ipython3",
   "version": "3.10.11"
  },
  "orig_nbformat": 4
 },
 "nbformat": 4,
 "nbformat_minor": 2
}
